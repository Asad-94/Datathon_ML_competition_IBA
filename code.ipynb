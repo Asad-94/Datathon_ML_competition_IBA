{
 "cells": [
  {
   "attachments": {},
   "cell_type": "markdown",
   "metadata": {},
   "source": [
    "Members: Fareed Khan, Asad Rizvi"
   ]
  },
  {
   "attachments": {},
   "cell_type": "markdown",
   "metadata": {},
   "source": [
    "Loading libraries"
   ]
  },
  {
   "cell_type": "code",
   "execution_count": 113,
   "metadata": {},
   "outputs": [],
   "source": [
    "import pandas as pd\n",
    "import numpy as np"
   ]
  },
  {
   "attachments": {},
   "cell_type": "markdown",
   "metadata": {},
   "source": [
    "Loading the dataset"
   ]
  },
  {
   "cell_type": "code",
   "execution_count": 167,
   "metadata": {},
   "outputs": [],
   "source": [
    "# load train and test csv files in test train dataframes\n",
    "train = pd.read_csv('train.csv')\n",
    "test = pd.read_csv('test.csv')"
   ]
  },
  {
   "attachments": {},
   "cell_type": "markdown",
   "metadata": {},
   "source": [
    "printing the shape"
   ]
  },
  {
   "cell_type": "code",
   "execution_count": 168,
   "metadata": {},
   "outputs": [
    {
     "name": "stdout",
     "output_type": "stream",
     "text": [
      "(25000, 11) (10040, 10)\n"
     ]
    }
   ],
   "source": [
    "print(train.shape, test.shape)"
   ]
  },
  {
   "cell_type": "markdown",
   "metadata": {},
   "source": [
    "Checking NAN values"
   ]
  },
  {
   "cell_type": "code",
   "execution_count": 169,
   "metadata": {},
   "outputs": [
    {
     "name": "stdout",
     "output_type": "stream",
     "text": [
      "date                                    4942\n",
      "Usage_kWh                               5047\n",
      "Lagging_Current_Reactive.Power_kVarh    5051\n",
      "Leading_Current_Reactive_Power_kVarh    4998\n",
      "CO2(tCO2)                               5017\n",
      "Lagging_Current_Power_Factor            5042\n",
      "Leading_Current_Power_Factor            5079\n",
      "NSM                                     4952\n",
      "WeekStatus                              5112\n",
      "Day_of_week                             5006\n",
      "Load_Type                                  0\n",
      "dtype: int64 \n",
      " date                                    1991\n",
      "Usage_kWh                               1991\n",
      "Lagging_Current_Reactive.Power_kVarh    1984\n",
      "Leading_Current_Reactive_Power_kVarh    1947\n",
      "CO2(tCO2)                               1971\n",
      "Lagging_Current_Power_Factor            1943\n",
      "Leading_Current_Power_Factor            2070\n",
      "NSM                                     2037\n",
      "WeekStatus                              2032\n",
      "Day_of_week                             1959\n",
      "dtype: int64\n"
     ]
    }
   ],
   "source": [
    "# check nan values of all columns\n",
    "print(train.isna().sum(), '\\n', test.isna().sum())"
   ]
  },
  {
   "attachments": {},
   "cell_type": "markdown",
   "metadata": {},
   "source": [
    "Checking the remaining data without NAN"
   ]
  },
  {
   "cell_type": "code",
   "execution_count": 170,
   "metadata": {},
   "outputs": [
    {
     "name": "stdout",
     "output_type": "stream",
     "text": [
      "(2686, 11) (1024, 10)\n"
     ]
    }
   ],
   "source": [
    "# drop those rows contains nan values.\n",
    "train_without_nan = train.dropna(axis=0, how='any') \n",
    "test_without_nan = test.dropna(axis=0, how='any') \n",
    "\n",
    "print(train_without_nan.shape, test_without_nan.shape)"
   ]
  },
  {
   "attachments": {},
   "cell_type": "markdown",
   "metadata": {},
   "source": [
    "Merging data"
   ]
  },
  {
   "cell_type": "code",
   "execution_count": 171,
   "metadata": {},
   "outputs": [
    {
     "name": "stdout",
     "output_type": "stream",
     "text": [
      "(35040, 11)\n"
     ]
    }
   ],
   "source": [
    "# merge train and test data\n",
    "merged_data = pd.concat([train, test], axis=0)\n",
    "print(merged_data.shape)"
   ]
  },
  {
   "cell_type": "code",
   "execution_count": 172,
   "metadata": {},
   "outputs": [],
   "source": [
    "# drop date column from merged_data\n",
    "merged_data = merged_data.drop(['date'], axis=1)"
   ]
  },
  {
   "cell_type": "code",
   "execution_count": 173,
   "metadata": {},
   "outputs": [
    {
     "data": {
      "text/plain": [
       "Usage_kWh                               float64\n",
       "Lagging_Current_Reactive.Power_kVarh    float64\n",
       "Leading_Current_Reactive_Power_kVarh    float64\n",
       "CO2(tCO2)                               float64\n",
       "Lagging_Current_Power_Factor            float64\n",
       "Leading_Current_Power_Factor            float64\n",
       "NSM                                     float64\n",
       "WeekStatus                               object\n",
       "Day_of_week                              object\n",
       "Load_Type                                object\n",
       "dtype: object"
      ]
     },
     "execution_count": 173,
     "metadata": {},
     "output_type": "execute_result"
    }
   ],
   "source": [
    "merged_data.dtypes"
   ]
  },
  {
   "attachments": {},
   "cell_type": "markdown",
   "metadata": {},
   "source": [
    "Filling Numerical Columns"
   ]
  },
  {
   "cell_type": "code",
   "execution_count": 112,
   "metadata": {},
   "outputs": [
    {
     "name": "stderr",
     "output_type": "stream",
     "text": [
      "C:\\Users\\faree\\AppData\\Local\\Temp\\ipykernel_2996\\399049036.py:16: SettingWithCopyWarning: \n",
      "A value is trying to be set on a copy of a slice from a DataFrame\n",
      "\n",
      "See the caveats in the documentation: https://pandas.pydata.org/pandas-docs/stable/user_guide/indexing.html#returning-a-view-versus-a-copy\n",
      "  merged_data_X[each].fillna(mode_value[0], inplace=True)\n"
     ]
    }
   ],
   "source": [
    "# loop through numerical columns\n",
    "numeric_columns = merged_data.select_dtypes(include=[np.number]).columns.tolist()\n",
    "for each in numeric_columns:\n",
    "    mean_value = merged_data[each].mean()\n",
    "    merged_data[each].fillna(mean_value, inplace=True)\n",
    "\n",
    "# remove loadtype column from data\n",
    "merged_data_X = merged_data.loc[:, merged_data.columns != 'Load_Type']\n",
    "merged_data_y = merged_data[['Load_Type']]\n",
    "\n",
    "# loop through non numeric columns\n",
    "non_numeric_columns = merged_data_X.select_dtypes(exclude=[np.number]).columns.tolist()\n",
    "\n",
    "for each in non_numeric_columns:\n",
    "    mode_value = merged_data_X[each].mode()\n",
    "    merged_data_X[each].fillna(mode_value[0], inplace=True)"
   ]
  },
  {
   "attachments": {},
   "cell_type": "markdown",
   "metadata": {},
   "source": [
    "One Hot Encoding"
   ]
  },
  {
   "cell_type": "code",
   "execution_count": 41,
   "metadata": {},
   "outputs": [
    {
     "data": {
      "text/plain": [
       "(35040, 16)"
      ]
     },
     "execution_count": 41,
     "metadata": {},
     "output_type": "execute_result"
    }
   ],
   "source": [
    "merged_data_X = pd.get_dummies(merged_data_X)\n",
    "merged_data_X.shape"
   ]
  },
  {
   "attachments": {},
   "cell_type": "markdown",
   "metadata": {},
   "source": [
    "Applying Polynomial Featurs"
   ]
  },
  {
   "cell_type": "code",
   "execution_count": 12,
   "metadata": {},
   "outputs": [
    {
     "name": "stdout",
     "output_type": "stream",
     "text": [
      "(35040, 152)\n"
     ]
    }
   ],
   "source": [
    "# polynomial features\n",
    "from sklearn.preprocessing import PolynomialFeatures\n",
    "poly = PolynomialFeatures(2)\n",
    "merged_data_X_poly = poly.fit_transform(merged_data_X)\n",
    "\n",
    "\n",
    "merged_data_X_poly = pd.DataFrame(merged_data_X_poly, columns = poly.get_feature_names_out())\n",
    "# drop first column\n",
    "merged_data_X_poly = merged_data_X_poly.drop(['1'], axis=1)\n",
    "\n",
    "print(merged_data_X_poly.shape)"
   ]
  },
  {
   "cell_type": "code",
   "execution_count": 192,
   "metadata": {},
   "outputs": [
    {
     "name": "stdout",
     "output_type": "stream",
     "text": [
      "(25000, 152) (10040, 152)\n"
     ]
    }
   ],
   "source": [
    "# split the dataframe into train and test again back to original\n",
    "train_X = merged_data_X_poly.iloc[:train.shape[0], :]\n",
    "test_X = merged_data_X_poly.iloc[train.shape[0]:, :]\n",
    "\n",
    "print(train_X.shape, test_X.shape)"
   ]
  },
  {
   "cell_type": "code",
   "execution_count": 193,
   "metadata": {},
   "outputs": [
    {
     "name": "stderr",
     "output_type": "stream",
     "text": [
      "C:\\Users\\faree\\AppData\\Local\\Temp\\ipykernel_8056\\1211431078.py:2: SettingWithCopyWarning: \n",
      "A value is trying to be set on a copy of a slice from a DataFrame.\n",
      "Try using .loc[row_indexer,col_indexer] = value instead\n",
      "\n",
      "See the caveats in the documentation: https://pandas.pydata.org/pandas-docs/stable/user_guide/indexing.html#returning-a-view-versus-a-copy\n",
      "  train_X['Load_Type'] = merged_data_y['Load_Type'].iloc[:train.shape[0]]\n"
     ]
    }
   ],
   "source": [
    "# attach target variable of same shape as train_X to train_X dataframe\n",
    "train_X['Load_Type'] = merged_data_y['Load_Type'].iloc[:train.shape[0]]"
   ]
  },
  {
   "attachments": {},
   "cell_type": "markdown",
   "metadata": {},
   "source": [
    "min max of columns"
   ]
  },
  {
   "cell_type": "code",
   "execution_count": 207,
   "metadata": {},
   "outputs": [],
   "source": [
    "# finding min max of all columns in train.\n",
    "min_max = {}\n",
    "for each in train_X.columns:\n",
    "    min_max[each] = [train_X[each].min(), train_X[each].max()]"
   ]
  },
  {
   "attachments": {},
   "cell_type": "markdown",
   "metadata": {},
   "source": [
    "Applying skewed on dataset"
   ]
  },
  {
   "cell_type": "code",
   "execution_count": 42,
   "metadata": {},
   "outputs": [],
   "source": [
    "# applying scip skewed on each numerical columns of merged_data_X\n",
    "from scipy.stats import skew\n",
    "for each in numeric_columns:\n",
    "    skewed_value = skew(merged_data_X[each])\n",
    "    if skewed_value > 0.5:\n",
    "        merged_data_X[each] = np.log1p(merged_data_X[each])\n",
    "\n",
    "# split the dataframe into train and test again back to original\n",
    "train_X_with_skewed = merged_data_X.iloc[:train.shape[0], :]\n",
    "test_X_with_skewed = merged_data_X.iloc[train.shape[0]:, :]\n",
    "\n",
    "print(train_X_with_skewed.shape, test_X_with_skewed.shape)\n",
    "# attach target variable of same shape as train_X to train_X dataframe\n",
    "train_X_with_skewed['Load_Type'] = merged_data_y['Load_Type'].iloc[:train.shape[0]]"
   ]
  },
  {
   "cell_type": "code",
   "execution_count": 54,
   "metadata": {},
   "outputs": [
    {
     "name": "stderr",
     "output_type": "stream",
     "text": [
      "C:\\Users\\faree\\AppData\\Local\\Temp\\ipykernel_2996\\38755400.py:4: SettingWithCopyWarning: \n",
      "A value is trying to be set on a copy of a slice from a DataFrame.\n",
      "Try using .loc[row_indexer,col_indexer] = value instead\n",
      "\n",
      "See the caveats in the documentation: https://pandas.pydata.org/pandas-docs/stable/user_guide/indexing.html#returning-a-view-versus-a-copy\n",
      "  train_X_with_skewed['Load_Type'] = le.fit_transform(train_X_with_skewed['Load_Type'])\n"
     ]
    }
   ],
   "source": [
    "# label encode last column of train_X\n",
    "from sklearn.preprocessing import LabelEncoder\n",
    "le = LabelEncoder()\n",
    "train_X_with_skewed['Load_Type'] = le.fit_transform(train_X_with_skewed['Load_Type'])"
   ]
  },
  {
   "attachments": {},
   "cell_type": "markdown",
   "metadata": {},
   "source": [
    "Best Gradient Boosting"
   ]
  },
  {
   "cell_type": "code",
   "execution_count": 60,
   "metadata": {},
   "outputs": [],
   "source": [
    "# apply gradient boosting classifier on train_X and predict it using test_X\n",
    "from sklearn.ensemble import GradientBoostingClassifier\n",
    "gbc = GradientBoostingClassifier(max_depth=5, n_estimators=150, learning_rate=0.05)\n",
    "gbc.fit(train_X_with_skewed.iloc[:, :-1], train_X_with_skewed.iloc[:, -1])\n",
    "y_pred = gbc.predict(test_X_with_skewed.iloc[:, :])"
   ]
  },
  {
   "attachments": {},
   "cell_type": "markdown",
   "metadata": {},
   "source": [
    "Gradient Boosting and skewed data with median"
   ]
  },
  {
   "cell_type": "code",
   "execution_count": 95,
   "metadata": {},
   "outputs": [
    {
     "data": {
      "text/html": [
       "<div>\n",
       "<style scoped>\n",
       "    .dataframe tbody tr th:only-of-type {\n",
       "        vertical-align: middle;\n",
       "    }\n",
       "\n",
       "    .dataframe tbody tr th {\n",
       "        vertical-align: top;\n",
       "    }\n",
       "\n",
       "    .dataframe thead th {\n",
       "        text-align: right;\n",
       "    }\n",
       "</style>\n",
       "<table border=\"1\" class=\"dataframe\">\n",
       "  <thead>\n",
       "    <tr style=\"text-align: right;\">\n",
       "      <th></th>\n",
       "      <th>Usage_kWh</th>\n",
       "      <th>Lagging_Current_Reactive.Power_kVarh</th>\n",
       "      <th>Leading_Current_Reactive_Power_kVarh</th>\n",
       "      <th>CO2(tCO2)</th>\n",
       "      <th>Lagging_Current_Power_Factor</th>\n",
       "      <th>Leading_Current_Power_Factor</th>\n",
       "      <th>NSM</th>\n",
       "      <th>WeekStatus</th>\n",
       "      <th>Day_of_week</th>\n",
       "      <th>Load_Type</th>\n",
       "    </tr>\n",
       "  </thead>\n",
       "  <tbody>\n",
       "    <tr>\n",
       "      <th>0</th>\n",
       "      <td>0.74013</td>\n",
       "      <td>2.298231</td>\n",
       "      <td>-9.557202</td>\n",
       "      <td>-2.073442</td>\n",
       "      <td>NaN</td>\n",
       "      <td>88.656262</td>\n",
       "      <td>898.766427</td>\n",
       "      <td>Weekday</td>\n",
       "      <td>Monday</td>\n",
       "      <td>Light_Load</td>\n",
       "    </tr>\n",
       "    <tr>\n",
       "      <th>1</th>\n",
       "      <td>NaN</td>\n",
       "      <td>NaN</td>\n",
       "      <td>6.012130</td>\n",
       "      <td>NaN</td>\n",
       "      <td>62.741097</td>\n",
       "      <td>100.961237</td>\n",
       "      <td>1795.531830</td>\n",
       "      <td>Weekday</td>\n",
       "      <td>Monday</td>\n",
       "      <td>Light_Load</td>\n",
       "    </tr>\n",
       "    <tr>\n",
       "      <th>2</th>\n",
       "      <td>NaN</td>\n",
       "      <td>2.628231</td>\n",
       "      <td>10.497461</td>\n",
       "      <td>NaN</td>\n",
       "      <td>66.251097</td>\n",
       "      <td>90.880756</td>\n",
       "      <td>2715.267065</td>\n",
       "      <td>Weekday</td>\n",
       "      <td>Monday</td>\n",
       "      <td>Light_Load</td>\n",
       "    </tr>\n",
       "    <tr>\n",
       "      <th>3</th>\n",
       "      <td>3.82081</td>\n",
       "      <td>2.908231</td>\n",
       "      <td>NaN</td>\n",
       "      <td>-17.683175</td>\n",
       "      <td>NaN</td>\n",
       "      <td>86.425249</td>\n",
       "      <td>NaN</td>\n",
       "      <td>NaN</td>\n",
       "      <td>Monday</td>\n",
       "      <td>Light_Load</td>\n",
       "    </tr>\n",
       "  </tbody>\n",
       "</table>\n",
       "</div>"
      ],
      "text/plain": [
       "   Usage_kWh  Lagging_Current_Reactive.Power_kVarh   \n",
       "0    0.74013                              2.298231  \\\n",
       "1        NaN                                   NaN   \n",
       "2        NaN                              2.628231   \n",
       "3    3.82081                              2.908231   \n",
       "\n",
       "   Leading_Current_Reactive_Power_kVarh  CO2(tCO2)   \n",
       "0                             -9.557202  -2.073442  \\\n",
       "1                              6.012130        NaN   \n",
       "2                             10.497461        NaN   \n",
       "3                                   NaN -17.683175   \n",
       "\n",
       "   Lagging_Current_Power_Factor  Leading_Current_Power_Factor          NSM   \n",
       "0                           NaN                     88.656262   898.766427  \\\n",
       "1                     62.741097                    100.961237  1795.531830   \n",
       "2                     66.251097                     90.880756  2715.267065   \n",
       "3                           NaN                     86.425249          NaN   \n",
       "\n",
       "  WeekStatus Day_of_week   Load_Type  \n",
       "0    Weekday      Monday  Light_Load  \n",
       "1    Weekday      Monday  Light_Load  \n",
       "2    Weekday      Monday  Light_Load  \n",
       "3        NaN      Monday  Light_Load  "
      ]
     },
     "execution_count": 95,
     "metadata": {},
     "output_type": "execute_result"
    }
   ],
   "source": [
    "merged_data.head(4)"
   ]
  },
  {
   "cell_type": "code",
   "execution_count": 135,
   "metadata": {},
   "outputs": [
    {
     "name": "stderr",
     "output_type": "stream",
     "text": [
      "C:\\Users\\faree\\AppData\\Local\\Temp\\ipykernel_2996\\1429435154.py:29: SettingWithCopyWarning: \n",
      "A value is trying to be set on a copy of a slice from a DataFrame.\n",
      "Try using .loc[row_indexer,col_indexer] = value instead\n",
      "\n",
      "See the caveats in the documentation: https://pandas.pydata.org/pandas-docs/stable/user_guide/indexing.html#returning-a-view-versus-a-copy\n",
      "  train_X_with_skewed['Load_Type'] = merged_data_y['Load_Type'].iloc[:train.shape[0]]\n"
     ]
    }
   ],
   "source": [
    "# loop through numerical columns\n",
    "numeric_columns = merged_data.select_dtypes(include=[np.number]).columns.tolist()\n",
    "for each in numeric_columns:\n",
    "    mean_value = merged_data[each].median()\n",
    "    merged_data[each].fillna(mean_value, inplace=True)\n",
    "\n",
    "# remove loadtype column from data\n",
    "merged_data_X = merged_data.loc[:, merged_data.columns != 'Load_Type']\n",
    "merged_data_y = merged_data[['Load_Type']]\n",
    "\n",
    "merged_data_X = pd.get_dummies(merged_data_X)\n",
    "\n",
    "# loop through non numeric columns\n",
    "non_numeric_columns = merged_data_X.select_dtypes(exclude=[np.number]).columns.tolist()\n",
    "\n",
    "for each in non_numeric_columns:\n",
    "    mode_value = merged_data_X[each].mode()\n",
    "    merged_data_X[each].fillna(mode_value[0], inplace=True)\n",
    "\n",
    "# split the dataframe into train and test again back to original\n",
    "train_X = merged_data_X.iloc[:train.shape[0], :]\n",
    "test_X = merged_data_X.iloc[train.shape[0]:, :]\n",
    "\n",
    "# split the dataframe into train and test again back to original\n",
    "train_X_with_skewed = merged_data_X.iloc[:train.shape[0], :]\n",
    "test_X_with_skewed = merged_data_X.iloc[train.shape[0]:, :]\n",
    "\n",
    "# attach target variable of same shape as train_X to train_X dataframe\n",
    "train_X_with_skewed['Load_Type'] = merged_data_y['Load_Type'].iloc[:train.shape[0]]"
   ]
  },
  {
   "cell_type": "code",
   "execution_count": null,
   "metadata": {},
   "outputs": [],
   "source": [
    "# label encode last column of train_X\n",
    "from sklearn.preprocessing import LabelEncoder\n",
    "le = LabelEncoder()\n",
    "train_X_with_skewed['Load_Type'] = le.fit_transform(train_X_with_skewed['Load_Type'])"
   ]
  },
  {
   "cell_type": "code",
   "execution_count": 136,
   "metadata": {},
   "outputs": [
    {
     "data": {
      "text/html": [
       "<div>\n",
       "<style scoped>\n",
       "    .dataframe tbody tr th:only-of-type {\n",
       "        vertical-align: middle;\n",
       "    }\n",
       "\n",
       "    .dataframe tbody tr th {\n",
       "        vertical-align: top;\n",
       "    }\n",
       "\n",
       "    .dataframe thead th {\n",
       "        text-align: right;\n",
       "    }\n",
       "</style>\n",
       "<table border=\"1\" class=\"dataframe\">\n",
       "  <thead>\n",
       "    <tr style=\"text-align: right;\">\n",
       "      <th></th>\n",
       "      <th>Usage_kWh</th>\n",
       "      <th>Lagging_Current_Reactive.Power_kVarh</th>\n",
       "      <th>Leading_Current_Reactive_Power_kVarh</th>\n",
       "      <th>CO2(tCO2)</th>\n",
       "      <th>Lagging_Current_Power_Factor</th>\n",
       "      <th>Leading_Current_Power_Factor</th>\n",
       "      <th>NSM</th>\n",
       "      <th>WeekStatus_Weekday</th>\n",
       "      <th>WeekStatus_Weekend</th>\n",
       "      <th>Day_of_week_Friday</th>\n",
       "      <th>Day_of_week_Monday</th>\n",
       "      <th>Day_of_week_Saturday</th>\n",
       "      <th>Day_of_week_Sunday</th>\n",
       "      <th>Day_of_week_Thursday</th>\n",
       "      <th>Day_of_week_Tuesday</th>\n",
       "      <th>Day_of_week_Wednesday</th>\n",
       "      <th>Load_Type</th>\n",
       "    </tr>\n",
       "  </thead>\n",
       "  <tbody>\n",
       "    <tr>\n",
       "      <th>0</th>\n",
       "      <td>0.740130</td>\n",
       "      <td>2.298231</td>\n",
       "      <td>-9.557202</td>\n",
       "      <td>-2.073442</td>\n",
       "      <td>83.921097</td>\n",
       "      <td>88.656262</td>\n",
       "      <td>898.766427</td>\n",
       "      <td>True</td>\n",
       "      <td>False</td>\n",
       "      <td>False</td>\n",
       "      <td>True</td>\n",
       "      <td>False</td>\n",
       "      <td>False</td>\n",
       "      <td>False</td>\n",
       "      <td>False</td>\n",
       "      <td>False</td>\n",
       "      <td>Light_Load</td>\n",
       "    </tr>\n",
       "    <tr>\n",
       "      <th>1</th>\n",
       "      <td>3.788867</td>\n",
       "      <td>4.348231</td>\n",
       "      <td>6.012130</td>\n",
       "      <td>0.972237</td>\n",
       "      <td>62.741097</td>\n",
       "      <td>100.961237</td>\n",
       "      <td>1795.531830</td>\n",
       "      <td>True</td>\n",
       "      <td>False</td>\n",
       "      <td>False</td>\n",
       "      <td>True</td>\n",
       "      <td>False</td>\n",
       "      <td>False</td>\n",
       "      <td>False</td>\n",
       "      <td>False</td>\n",
       "      <td>False</td>\n",
       "      <td>Light_Load</td>\n",
       "    </tr>\n",
       "    <tr>\n",
       "      <th>2</th>\n",
       "      <td>3.788867</td>\n",
       "      <td>2.628231</td>\n",
       "      <td>10.497461</td>\n",
       "      <td>0.972237</td>\n",
       "      <td>66.251097</td>\n",
       "      <td>90.880756</td>\n",
       "      <td>2715.267065</td>\n",
       "      <td>True</td>\n",
       "      <td>False</td>\n",
       "      <td>False</td>\n",
       "      <td>True</td>\n",
       "      <td>False</td>\n",
       "      <td>False</td>\n",
       "      <td>False</td>\n",
       "      <td>False</td>\n",
       "      <td>False</td>\n",
       "      <td>Light_Load</td>\n",
       "    </tr>\n",
       "  </tbody>\n",
       "</table>\n",
       "</div>"
      ],
      "text/plain": [
       "   Usage_kWh  Lagging_Current_Reactive.Power_kVarh   \n",
       "0   0.740130                              2.298231  \\\n",
       "1   3.788867                              4.348231   \n",
       "2   3.788867                              2.628231   \n",
       "\n",
       "   Leading_Current_Reactive_Power_kVarh  CO2(tCO2)   \n",
       "0                             -9.557202  -2.073442  \\\n",
       "1                              6.012130   0.972237   \n",
       "2                             10.497461   0.972237   \n",
       "\n",
       "   Lagging_Current_Power_Factor  Leading_Current_Power_Factor          NSM   \n",
       "0                     83.921097                     88.656262   898.766427  \\\n",
       "1                     62.741097                    100.961237  1795.531830   \n",
       "2                     66.251097                     90.880756  2715.267065   \n",
       "\n",
       "   WeekStatus_Weekday  WeekStatus_Weekend  Day_of_week_Friday   \n",
       "0                True               False               False  \\\n",
       "1                True               False               False   \n",
       "2                True               False               False   \n",
       "\n",
       "   Day_of_week_Monday  Day_of_week_Saturday  Day_of_week_Sunday   \n",
       "0                True                 False               False  \\\n",
       "1                True                 False               False   \n",
       "2                True                 False               False   \n",
       "\n",
       "   Day_of_week_Thursday  Day_of_week_Tuesday  Day_of_week_Wednesday   \n",
       "0                 False                False                  False  \\\n",
       "1                 False                False                  False   \n",
       "2                 False                False                  False   \n",
       "\n",
       "    Load_Type  \n",
       "0  Light_Load  \n",
       "1  Light_Load  \n",
       "2  Light_Load  "
      ]
     },
     "execution_count": 136,
     "metadata": {},
     "output_type": "execute_result"
    }
   ],
   "source": [
    "train_X_with_skewed.head(3)"
   ]
  },
  {
   "cell_type": "code",
   "execution_count": 102,
   "metadata": {},
   "outputs": [],
   "source": [
    "# apply gradient boosting classifier on train_X and predict it using test_X\n",
    "from sklearn.ensemble import GradientBoostingClassifier\n",
    "gbc = GradientBoostingClassifier(max_depth=10, n_estimators=200, learning_rate=0.1)\n",
    "gbc.fit(train_X_with_skewed.iloc[:, :-1], train_X_with_skewed.iloc[:, -1])\n",
    "y_pred = gbc.predict(test_X_with_skewed.iloc[:, :])"
   ]
  },
  {
   "cell_type": "code",
   "execution_count": 126,
   "metadata": {},
   "outputs": [],
   "source": [
    "y_pred = pd.DataFrame(y_pred)\n",
    "# rename column from 0 to load_type\n",
    "y_pred.rename(columns={0: 'Load_Type'}, inplace=True)\n",
    "\n",
    "# replace the ecoded value with original value of light_type using repalce\n",
    "y_pred['Load_Type'] = y_pred['Load_Type'].replace({0.0: 'Light_Load', 2.0: 'Medium_Load', 1.0:\"Maximum_Load\"})"
   ]
  },
  {
   "cell_type": "code",
   "execution_count": 127,
   "metadata": {},
   "outputs": [],
   "source": [
    "y_pred.to_csv('first_entry_with_stacking_lr_rf_dt_final_gb.csv')"
   ]
  },
  {
   "cell_type": "code",
   "execution_count": null,
   "metadata": {},
   "outputs": [],
   "source": [
    "# fill nan value with ffil\n",
    "merged_data = merged_data.fillna(method='ffill')"
   ]
  },
  {
   "attachments": {},
   "cell_type": "markdown",
   "metadata": {},
   "source": [
    "Using Stacking"
   ]
  },
  {
   "cell_type": "code",
   "execution_count": null,
   "metadata": {},
   "outputs": [],
   "source": [
    "from sklearn.ensemble import RandomForestClassifier\n",
    "from sklearn.tree import DecisionTreeClassifier\n",
    "from sklearn.linear_model import LogisticRegression\n",
    "from sklearn.pipeline import make_pipeline\n",
    "from sklearn.ensemble import StackingClassifier\n",
    "from sklearn.model_selection import cross_val_score\n",
    "\n",
    "\n",
    "\n",
    "estimators = [\n",
    "('lr', LogisticRegression()),\n",
    "('dt', DecisionTreeClassifier(max_depth=5)),\n",
    "('rf', RandomForestClassifier(max_depth=10, n_estimators=150))\n",
    "]\n",
    "\n",
    "reg_sr = StackingClassifier(estimators=estimators, final_estimator=GradientBoostingClassifier(max_depth=10, n_estimators=200))\n",
    "\n",
    "reg_sr.fit(train_X_with_skewed.iloc[:, :-1], train_X_with_skewed.iloc[:, -1])\n",
    "\n",
    "y_pred = reg_sr.predict(test_X_with_skewed.iloc[:, :])"
   ]
  },
  {
   "attachments": {},
   "cell_type": "markdown",
   "metadata": {},
   "source": [
    "Applying HistGradientBoosting Classifier"
   ]
  },
  {
   "cell_type": "code",
   "execution_count": 139,
   "metadata": {},
   "outputs": [],
   "source": [
    "from sklearn.ensemble import HistGradientBoostingClassifier\n",
    "\n",
    "gbc = HistGradientBoostingClassifier(max_depth=20, max_iter=200, learning_rate=0.5)\n",
    "gbc.fit(train_X_with_skewed.iloc[:, :-1], train_X_with_skewed.iloc[:, -1])\n",
    "y_pred = gbc.predict(test_X_with_skewed.iloc[:, :])"
   ]
  },
  {
   "attachments": {},
   "cell_type": "markdown",
   "metadata": {},
   "source": [
    "Applying GradientBoosting Classifier long time"
   ]
  },
  {
   "cell_type": "code",
   "execution_count": 174,
   "metadata": {},
   "outputs": [
    {
     "name": "stderr",
     "output_type": "stream",
     "text": [
      "C:\\Users\\faree\\AppData\\Local\\Temp\\ipykernel_2996\\875766458.py:27: SettingWithCopyWarning: \n",
      "A value is trying to be set on a copy of a slice from a DataFrame.\n",
      "Try using .loc[row_indexer,col_indexer] = value instead\n",
      "\n",
      "See the caveats in the documentation: https://pandas.pydata.org/pandas-docs/stable/user_guide/indexing.html#returning-a-view-versus-a-copy\n",
      "  train_X_with_skewed['Load_Type'] = merged_data_y['Load_Type'].iloc[:train.shape[0]]\n"
     ]
    }
   ],
   "source": [
    "numeric_columns = merged_data.select_dtypes(include=[np.number]).columns.tolist()\n",
    "for each in numeric_columns:\n",
    "    merged_data[each] = merged_data[each].fillna(method='bfill')\n",
    "\n",
    "# remove loadtype column from data\n",
    "merged_data_X = merged_data.loc[:, merged_data.columns != 'Load_Type']\n",
    "merged_data_y = merged_data[['Load_Type']]\n",
    "\n",
    "merged_data_X = pd.get_dummies(merged_data_X)\n",
    "\n",
    "# loop through non numeric columns\n",
    "non_numeric_columns = merged_data_X.select_dtypes(exclude=[np.number]).columns.tolist()\n",
    "\n",
    "for each in non_numeric_columns:\n",
    "    mode_value = merged_data_X[each].mode()\n",
    "    merged_data_X[each].fillna(mode_value[0], inplace=True)\n",
    "\n",
    "# split the dataframe into train and test again back to original\n",
    "train_X = merged_data_X.iloc[:train.shape[0], :]\n",
    "test_X = merged_data_X.iloc[train.shape[0]:, :]\n",
    "\n",
    "# split the dataframe into train and test again back to original\n",
    "train_X_with_skewed = merged_data_X.iloc[:train.shape[0], :]\n",
    "test_X_with_skewed = merged_data_X.iloc[train.shape[0]:, :]\n",
    "\n",
    "# attach target variable of same shape as train_X to train_X dataframe\n",
    "train_X_with_skewed['Load_Type'] = merged_data_y['Load_Type'].iloc[:train.shape[0]]"
   ]
  },
  {
   "cell_type": "code",
   "execution_count": 161,
   "metadata": {},
   "outputs": [
    {
     "data": {
      "text/plain": [
       "1"
      ]
     },
     "execution_count": 161,
     "metadata": {},
     "output_type": "execute_result"
    }
   ],
   "source": [
    "test_X_with_skewed.isna().sum().sum()"
   ]
  },
  {
   "cell_type": "code",
   "execution_count": 183,
   "metadata": {},
   "outputs": [
    {
     "data": {
      "text/html": [
       "<style>#sk-container-id-2 {color: black;background-color: white;}#sk-container-id-2 pre{padding: 0;}#sk-container-id-2 div.sk-toggleable {background-color: white;}#sk-container-id-2 label.sk-toggleable__label {cursor: pointer;display: block;width: 100%;margin-bottom: 0;padding: 0.3em;box-sizing: border-box;text-align: center;}#sk-container-id-2 label.sk-toggleable__label-arrow:before {content: \"▸\";float: left;margin-right: 0.25em;color: #696969;}#sk-container-id-2 label.sk-toggleable__label-arrow:hover:before {color: black;}#sk-container-id-2 div.sk-estimator:hover label.sk-toggleable__label-arrow:before {color: black;}#sk-container-id-2 div.sk-toggleable__content {max-height: 0;max-width: 0;overflow: hidden;text-align: left;background-color: #f0f8ff;}#sk-container-id-2 div.sk-toggleable__content pre {margin: 0.2em;color: black;border-radius: 0.25em;background-color: #f0f8ff;}#sk-container-id-2 input.sk-toggleable__control:checked~div.sk-toggleable__content {max-height: 200px;max-width: 100%;overflow: auto;}#sk-container-id-2 input.sk-toggleable__control:checked~label.sk-toggleable__label-arrow:before {content: \"▾\";}#sk-container-id-2 div.sk-estimator input.sk-toggleable__control:checked~label.sk-toggleable__label {background-color: #d4ebff;}#sk-container-id-2 div.sk-label input.sk-toggleable__control:checked~label.sk-toggleable__label {background-color: #d4ebff;}#sk-container-id-2 input.sk-hidden--visually {border: 0;clip: rect(1px 1px 1px 1px);clip: rect(1px, 1px, 1px, 1px);height: 1px;margin: -1px;overflow: hidden;padding: 0;position: absolute;width: 1px;}#sk-container-id-2 div.sk-estimator {font-family: monospace;background-color: #f0f8ff;border: 1px dotted black;border-radius: 0.25em;box-sizing: border-box;margin-bottom: 0.5em;}#sk-container-id-2 div.sk-estimator:hover {background-color: #d4ebff;}#sk-container-id-2 div.sk-parallel-item::after {content: \"\";width: 100%;border-bottom: 1px solid gray;flex-grow: 1;}#sk-container-id-2 div.sk-label:hover label.sk-toggleable__label {background-color: #d4ebff;}#sk-container-id-2 div.sk-serial::before {content: \"\";position: absolute;border-left: 1px solid gray;box-sizing: border-box;top: 0;bottom: 0;left: 50%;z-index: 0;}#sk-container-id-2 div.sk-serial {display: flex;flex-direction: column;align-items: center;background-color: white;padding-right: 0.2em;padding-left: 0.2em;position: relative;}#sk-container-id-2 div.sk-item {position: relative;z-index: 1;}#sk-container-id-2 div.sk-parallel {display: flex;align-items: stretch;justify-content: center;background-color: white;position: relative;}#sk-container-id-2 div.sk-item::before, #sk-container-id-2 div.sk-parallel-item::before {content: \"\";position: absolute;border-left: 1px solid gray;box-sizing: border-box;top: 0;bottom: 0;left: 50%;z-index: -1;}#sk-container-id-2 div.sk-parallel-item {display: flex;flex-direction: column;z-index: 1;position: relative;background-color: white;}#sk-container-id-2 div.sk-parallel-item:first-child::after {align-self: flex-end;width: 50%;}#sk-container-id-2 div.sk-parallel-item:last-child::after {align-self: flex-start;width: 50%;}#sk-container-id-2 div.sk-parallel-item:only-child::after {width: 0;}#sk-container-id-2 div.sk-dashed-wrapped {border: 1px dashed gray;margin: 0 0.4em 0.5em 0.4em;box-sizing: border-box;padding-bottom: 0.4em;background-color: white;}#sk-container-id-2 div.sk-label label {font-family: monospace;font-weight: bold;display: inline-block;line-height: 1.2em;}#sk-container-id-2 div.sk-label-container {text-align: center;}#sk-container-id-2 div.sk-container {/* jupyter's `normalize.less` sets `[hidden] { display: none; }` but bootstrap.min.css set `[hidden] { display: none !important; }` so we also need the `!important` here to be able to override the default hidden behavior on the sphinx rendered scikit-learn.org. See: https://github.com/scikit-learn/scikit-learn/issues/21755 */display: inline-block !important;position: relative;}#sk-container-id-2 div.sk-text-repr-fallback {display: none;}</style><div id=\"sk-container-id-2\" class=\"sk-top-container\"><div class=\"sk-text-repr-fallback\"><pre>GradientBoostingClassifier(max_depth=10, n_estimators=150)</pre><b>In a Jupyter environment, please rerun this cell to show the HTML representation or trust the notebook. <br />On GitHub, the HTML representation is unable to render, please try loading this page with nbviewer.org.</b></div><div class=\"sk-container\" hidden><div class=\"sk-item\"><div class=\"sk-estimator sk-toggleable\"><input class=\"sk-toggleable__control sk-hidden--visually\" id=\"sk-estimator-id-6\" type=\"checkbox\" checked><label for=\"sk-estimator-id-6\" class=\"sk-toggleable__label sk-toggleable__label-arrow\">GradientBoostingClassifier</label><div class=\"sk-toggleable__content\"><pre>GradientBoostingClassifier(max_depth=10, n_estimators=150)</pre></div></div></div></div></div>"
      ],
      "text/plain": [
       "GradientBoostingClassifier(max_depth=10, n_estimators=150)"
      ]
     },
     "execution_count": 183,
     "metadata": {},
     "output_type": "execute_result"
    }
   ],
   "source": [
    "from sklearn.ensemble import GradientBoostingClassifier\n",
    "\n",
    "gbc = GradientBoostingClassifier(max_depth=10, n_estimators=150, learning_rate=0.1)\n",
    "gbc.fit(train_X_with_skewed.iloc[:, :-1], train_X_with_skewed.iloc[:, -1])"
   ]
  },
  {
   "cell_type": "code",
   "execution_count": 184,
   "metadata": {},
   "outputs": [],
   "source": [
    "y_pred = gbc.predict(test_X_with_skewed.iloc[:, :])"
   ]
  },
  {
   "attachments": {},
   "cell_type": "markdown",
   "metadata": {},
   "source": [
    "Saving data in CSV Formats"
   ]
  },
  {
   "cell_type": "code",
   "execution_count": 185,
   "metadata": {},
   "outputs": [],
   "source": [
    "y_pred = pd.DataFrame(y_pred)\n",
    "# rename column from 0 to load_type\n",
    "y_pred.rename(columns={0: 'Load_Type'}, inplace=True)\n",
    "\n",
    "# replace the ecoded value with original value of light_type using repalce\n",
    "y_pred['Load_Type'] = y_pred['Load_Type'].replace({0.0: 'Light_Load', 2.0: 'Medium_Load', 1.0:\"Maximum_Load\"})"
   ]
  },
  {
   "cell_type": "code",
   "execution_count": 186,
   "metadata": {},
   "outputs": [],
   "source": [
    "y_pred.to_csv('entry_with_gb_150_10_forwardfill.csv')"
   ]
  }
 ],
 "metadata": {
  "kernelspec": {
   "display_name": ".venv-for-competetion",
   "language": "python",
   "name": "python3"
  },
  "language_info": {
   "codemirror_mode": {
    "name": "ipython",
    "version": 3
   },
   "file_extension": ".py",
   "mimetype": "text/x-python",
   "name": "python",
   "nbconvert_exporter": "python",
   "pygments_lexer": "ipython3",
   "version": "3.9.0"
  },
  "orig_nbformat": 4
 },
 "nbformat": 4,
 "nbformat_minor": 2
}
